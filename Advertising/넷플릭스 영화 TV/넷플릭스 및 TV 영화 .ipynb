{
 "cells": [
  {
   "cell_type": "code",
   "execution_count": 3,
   "id": "67eb45e9",
   "metadata": {},
   "outputs": [],
   "source": [
    "#목표는 다음과 같습니다:\n",
    "#Show Type 컨텐츠를 사용할 수 있습니다.\n",
    "#상위 5개 등급 카테고리.\n",
    "#상위 5명의 감독.\n",
    "#톱10 배우.\n",
    "#최근 몇 년간 TV쇼와 영화에 집중하는 경향..\n",
    "#계절별 최고의 TV쇼 톱 5.\n",
    "\n",
    "#귀여운 차트를 사용한 모든 차트 설계"
   ]
  },
  {
   "cell_type": "code",
   "execution_count": 5,
   "id": "c3609f31",
   "metadata": {},
   "outputs": [
    {
     "name": "stdout",
     "output_type": "stream",
     "text": [
      "Requirement already satisfied: cutecharts in c:\\users\\owner\\appdata\\local\\programs\\python\\python311\\lib\\site-packages (1.2.0)\n",
      "Requirement already satisfied: jinja2 in c:\\users\\owner\\appdata\\local\\programs\\python\\python311\\lib\\site-packages (from cutecharts) (3.1.2)\n",
      "Requirement already satisfied: MarkupSafe>=2.0 in c:\\users\\owner\\appdata\\local\\programs\\python\\python311\\lib\\site-packages (from jinja2->cutecharts) (2.0.1)\n"
     ]
    },
    {
     "name": "stderr",
     "output_type": "stream",
     "text": [
      "\n",
      "[notice] A new release of pip is available: 23.1.2 -> 23.3\n",
      "[notice] To update, run: python.exe -m pip install --upgrade pip\n"
     ]
    }
   ],
   "source": [
    "#라이브러리 가져오기\n",
    "\n",
    "!pip install cutecharts"
   ]
  },
  {
   "cell_type": "code",
   "execution_count": 11,
   "id": "eb40ae96",
   "metadata": {},
   "outputs": [],
   "source": [
    "import numpy as np\n",
    "import pandas as pd\n",
    "import cutecharts.charts as ctc\n",
    "from cutecharts.charts import Line\n",
    "from cutecharts.faker import Faker\n",
    "import matplotlib.pyplot as plt\n",
    "import warnings\n",
    "warnings.filterwarnings('ignore')"
   ]
  },
  {
   "cell_type": "code",
   "execution_count": 14,
   "id": "ad172b52",
   "metadata": {},
   "outputs": [],
   "source": [
    "data = pd.read_csv(\"C:/Users\\Owner/Desktop/git/Advertising/넷플릭스 영화 TV/netflix_titles.csv\")"
   ]
  },
  {
   "cell_type": "code",
   "execution_count": 15,
   "id": "5051da35",
   "metadata": {},
   "outputs": [
    {
     "name": "stdout",
     "output_type": "stream",
     "text": [
      "--------------------------------------------------\n",
      "\n",
      "Size of Netflix data is (8807, 12)\n",
      "\n",
      "--------------------------------------------------\n"
     ]
    },
    {
     "data": {
      "text/html": [
       "<div>\n",
       "<style scoped>\n",
       "    .dataframe tbody tr th:only-of-type {\n",
       "        vertical-align: middle;\n",
       "    }\n",
       "\n",
       "    .dataframe tbody tr th {\n",
       "        vertical-align: top;\n",
       "    }\n",
       "\n",
       "    .dataframe thead th {\n",
       "        text-align: right;\n",
       "    }\n",
       "</style>\n",
       "<table border=\"1\" class=\"dataframe\">\n",
       "  <thead>\n",
       "    <tr style=\"text-align: right;\">\n",
       "      <th></th>\n",
       "      <th>show_id</th>\n",
       "      <th>type</th>\n",
       "      <th>title</th>\n",
       "      <th>director</th>\n",
       "      <th>cast</th>\n",
       "      <th>country</th>\n",
       "      <th>date_added</th>\n",
       "      <th>release_year</th>\n",
       "      <th>rating</th>\n",
       "      <th>duration</th>\n",
       "      <th>listed_in</th>\n",
       "      <th>description</th>\n",
       "    </tr>\n",
       "  </thead>\n",
       "  <tbody>\n",
       "    <tr>\n",
       "      <th>0</th>\n",
       "      <td>s1</td>\n",
       "      <td>Movie</td>\n",
       "      <td>Dick Johnson Is Dead</td>\n",
       "      <td>Kirsten Johnson</td>\n",
       "      <td>NaN</td>\n",
       "      <td>United States</td>\n",
       "      <td>September 25, 2021</td>\n",
       "      <td>2020</td>\n",
       "      <td>PG-13</td>\n",
       "      <td>90 min</td>\n",
       "      <td>Documentaries</td>\n",
       "      <td>As her father nears the end of his life, filmm...</td>\n",
       "    </tr>\n",
       "    <tr>\n",
       "      <th>1</th>\n",
       "      <td>s2</td>\n",
       "      <td>TV Show</td>\n",
       "      <td>Blood &amp; Water</td>\n",
       "      <td>NaN</td>\n",
       "      <td>Ama Qamata, Khosi Ngema, Gail Mabalane, Thaban...</td>\n",
       "      <td>South Africa</td>\n",
       "      <td>September 24, 2021</td>\n",
       "      <td>2021</td>\n",
       "      <td>TV-MA</td>\n",
       "      <td>2 Seasons</td>\n",
       "      <td>International TV Shows, TV Dramas, TV Mysteries</td>\n",
       "      <td>After crossing paths at a party, a Cape Town t...</td>\n",
       "    </tr>\n",
       "    <tr>\n",
       "      <th>2</th>\n",
       "      <td>s3</td>\n",
       "      <td>TV Show</td>\n",
       "      <td>Ganglands</td>\n",
       "      <td>Julien Leclercq</td>\n",
       "      <td>Sami Bouajila, Tracy Gotoas, Samuel Jouy, Nabi...</td>\n",
       "      <td>NaN</td>\n",
       "      <td>September 24, 2021</td>\n",
       "      <td>2021</td>\n",
       "      <td>TV-MA</td>\n",
       "      <td>1 Season</td>\n",
       "      <td>Crime TV Shows, International TV Shows, TV Act...</td>\n",
       "      <td>To protect his family from a powerful drug lor...</td>\n",
       "    </tr>\n",
       "    <tr>\n",
       "      <th>3</th>\n",
       "      <td>s4</td>\n",
       "      <td>TV Show</td>\n",
       "      <td>Jailbirds New Orleans</td>\n",
       "      <td>NaN</td>\n",
       "      <td>NaN</td>\n",
       "      <td>NaN</td>\n",
       "      <td>September 24, 2021</td>\n",
       "      <td>2021</td>\n",
       "      <td>TV-MA</td>\n",
       "      <td>1 Season</td>\n",
       "      <td>Docuseries, Reality TV</td>\n",
       "      <td>Feuds, flirtations and toilet talk go down amo...</td>\n",
       "    </tr>\n",
       "    <tr>\n",
       "      <th>4</th>\n",
       "      <td>s5</td>\n",
       "      <td>TV Show</td>\n",
       "      <td>Kota Factory</td>\n",
       "      <td>NaN</td>\n",
       "      <td>Mayur More, Jitendra Kumar, Ranjan Raj, Alam K...</td>\n",
       "      <td>India</td>\n",
       "      <td>September 24, 2021</td>\n",
       "      <td>2021</td>\n",
       "      <td>TV-MA</td>\n",
       "      <td>2 Seasons</td>\n",
       "      <td>International TV Shows, Romantic TV Shows, TV ...</td>\n",
       "      <td>In a city of coaching centers known to train I...</td>\n",
       "    </tr>\n",
       "  </tbody>\n",
       "</table>\n",
       "</div>"
      ],
      "text/plain": [
       "  show_id     type                  title         director   \n",
       "0      s1    Movie   Dick Johnson Is Dead  Kirsten Johnson  \\\n",
       "1      s2  TV Show          Blood & Water              NaN   \n",
       "2      s3  TV Show              Ganglands  Julien Leclercq   \n",
       "3      s4  TV Show  Jailbirds New Orleans              NaN   \n",
       "4      s5  TV Show           Kota Factory              NaN   \n",
       "\n",
       "                                                cast        country   \n",
       "0                                                NaN  United States  \\\n",
       "1  Ama Qamata, Khosi Ngema, Gail Mabalane, Thaban...   South Africa   \n",
       "2  Sami Bouajila, Tracy Gotoas, Samuel Jouy, Nabi...            NaN   \n",
       "3                                                NaN            NaN   \n",
       "4  Mayur More, Jitendra Kumar, Ranjan Raj, Alam K...          India   \n",
       "\n",
       "           date_added  release_year rating   duration   \n",
       "0  September 25, 2021          2020  PG-13     90 min  \\\n",
       "1  September 24, 2021          2021  TV-MA  2 Seasons   \n",
       "2  September 24, 2021          2021  TV-MA   1 Season   \n",
       "3  September 24, 2021          2021  TV-MA   1 Season   \n",
       "4  September 24, 2021          2021  TV-MA  2 Seasons   \n",
       "\n",
       "                                           listed_in   \n",
       "0                                      Documentaries  \\\n",
       "1    International TV Shows, TV Dramas, TV Mysteries   \n",
       "2  Crime TV Shows, International TV Shows, TV Act...   \n",
       "3                             Docuseries, Reality TV   \n",
       "4  International TV Shows, Romantic TV Shows, TV ...   \n",
       "\n",
       "                                         description  \n",
       "0  As her father nears the end of his life, filmm...  \n",
       "1  After crossing paths at a party, a Cape Town t...  \n",
       "2  To protect his family from a powerful drug lor...  \n",
       "3  Feuds, flirtations and toilet talk go down amo...  \n",
       "4  In a city of coaching centers known to train I...  "
      ]
     },
     "execution_count": 15,
     "metadata": {},
     "output_type": "execute_result"
    }
   ],
   "source": [
    "print('-' * 50)\n",
    "print('\\nSize of Netflix data is {}\\n' .format(data.shape))\n",
    "print('-' * 50)\n",
    "data.head()"
   ]
  },
  {
   "cell_type": "code",
   "execution_count": 16,
   "id": "6b03f010",
   "metadata": {},
   "outputs": [],
   "source": [
    "#데이터 전처리"
   ]
  },
  {
   "cell_type": "code",
   "execution_count": 17,
   "id": "78084260",
   "metadata": {},
   "outputs": [
    {
     "name": "stdout",
     "output_type": "stream",
     "text": [
      "---------------------------------------------\n",
      "\n",
      "Statstical information about given data \n",
      "\n",
      "---------------------------------------------\n"
     ]
    },
    {
     "data": {
      "text/html": [
       "<div>\n",
       "<style scoped>\n",
       "    .dataframe tbody tr th:only-of-type {\n",
       "        vertical-align: middle;\n",
       "    }\n",
       "\n",
       "    .dataframe tbody tr th {\n",
       "        vertical-align: top;\n",
       "    }\n",
       "\n",
       "    .dataframe thead th {\n",
       "        text-align: right;\n",
       "    }\n",
       "</style>\n",
       "<table border=\"1\" class=\"dataframe\">\n",
       "  <thead>\n",
       "    <tr style=\"text-align: right;\">\n",
       "      <th></th>\n",
       "      <th>release_year</th>\n",
       "    </tr>\n",
       "  </thead>\n",
       "  <tbody>\n",
       "    <tr>\n",
       "      <th>count</th>\n",
       "      <td>8807.000000</td>\n",
       "    </tr>\n",
       "    <tr>\n",
       "      <th>mean</th>\n",
       "      <td>2014.180198</td>\n",
       "    </tr>\n",
       "    <tr>\n",
       "      <th>std</th>\n",
       "      <td>8.819312</td>\n",
       "    </tr>\n",
       "    <tr>\n",
       "      <th>min</th>\n",
       "      <td>1925.000000</td>\n",
       "    </tr>\n",
       "    <tr>\n",
       "      <th>25%</th>\n",
       "      <td>2013.000000</td>\n",
       "    </tr>\n",
       "    <tr>\n",
       "      <th>50%</th>\n",
       "      <td>2017.000000</td>\n",
       "    </tr>\n",
       "    <tr>\n",
       "      <th>75%</th>\n",
       "      <td>2019.000000</td>\n",
       "    </tr>\n",
       "    <tr>\n",
       "      <th>max</th>\n",
       "      <td>2021.000000</td>\n",
       "    </tr>\n",
       "  </tbody>\n",
       "</table>\n",
       "</div>"
      ],
      "text/plain": [
       "       release_year\n",
       "count   8807.000000\n",
       "mean    2014.180198\n",
       "std        8.819312\n",
       "min     1925.000000\n",
       "25%     2013.000000\n",
       "50%     2017.000000\n",
       "75%     2019.000000\n",
       "max     2021.000000"
      ]
     },
     "execution_count": 17,
     "metadata": {},
     "output_type": "execute_result"
    }
   ],
   "source": [
    "print('-' * 45)\n",
    "print(\"\\nStatstical information about given data \\n\")\n",
    "print('-' * 45)\n",
    "data.describe()"
   ]
  },
  {
   "cell_type": "code",
   "execution_count": 19,
   "id": "924a8435",
   "metadata": {},
   "outputs": [],
   "source": [
    "#누락된 데이터 \n",
    "#누락된 국가를 '지정 안 함'으로 바꿉니다.\n",
    "#누락된 항목을 '디렉터 없음'으로 바꿉니다.\n",
    "#누락된 캐스트를 '노 캐스트'로 바꿉니다."
   ]
  },
  {
   "cell_type": "code",
   "execution_count": 21,
   "id": "687866e1",
   "metadata": {},
   "outputs": [
    {
     "data": {
      "text/plain": [
       "show_id          0\n",
       "type             0\n",
       "title            0\n",
       "director         0\n",
       "cast             0\n",
       "country          0\n",
       "date_added      10\n",
       "release_year     0\n",
       "rating           4\n",
       "duration         3\n",
       "listed_in        0\n",
       "description      0\n",
       "dtype: int64"
      ]
     },
     "execution_count": 21,
     "metadata": {},
     "output_type": "execute_result"
    }
   ],
   "source": [
    "data['director'].replace(np.nan, 'No Director', inplace=True)\n",
    "data['cast'].replace(np.nan, 'No Cast',inplace=True)\n",
    "data['country'].replace(np.nan, 'Not Specify',inplace=True)\n",
    "\n",
    "data.isnull().sum()"
   ]
  },
  {
   "cell_type": "code",
   "execution_count": 22,
   "id": "1597908c",
   "metadata": {},
   "outputs": [],
   "source": [
    "#결측치 제거"
   ]
  },
  {
   "cell_type": "code",
   "execution_count": 23,
   "id": "1f7d2186",
   "metadata": {},
   "outputs": [
    {
     "data": {
      "text/plain": [
       "show_id          0\n",
       "type             0\n",
       "title            0\n",
       "director         0\n",
       "cast             0\n",
       "country          0\n",
       "date_added      10\n",
       "release_year     0\n",
       "rating           4\n",
       "duration         3\n",
       "listed_in        0\n",
       "description      0\n",
       "dtype: int64"
      ]
     },
     "execution_count": 23,
     "metadata": {},
     "output_type": "execute_result"
    }
   ],
   "source": [
    "data.isnull().sum()"
   ]
  },
  {
   "cell_type": "code",
   "execution_count": 24,
   "id": "0f8a1295",
   "metadata": {},
   "outputs": [
    {
     "data": {
      "text/plain": [
       "show_id         0\n",
       "type            0\n",
       "title           0\n",
       "director        0\n",
       "cast            0\n",
       "country         0\n",
       "date_added      0\n",
       "release_year    0\n",
       "rating          0\n",
       "duration        0\n",
       "listed_in       0\n",
       "description     0\n",
       "dtype: int64"
      ]
     },
     "execution_count": 24,
     "metadata": {},
     "output_type": "execute_result"
    }
   ],
   "source": [
    "data = data.dropna()\n",
    "data.isnull().sum()"
   ]
  },
  {
   "cell_type": "code",
   "execution_count": 25,
   "id": "04c8c0bf",
   "metadata": {},
   "outputs": [
    {
     "name": "stdout",
     "output_type": "stream",
     "text": [
      "--------------------------------------------------\n",
      "\n",
      "Check Duplicates\n",
      "--------------------------------------------------\n",
      "Total Duplicates values:  0\n",
      "--------------------------------------------------\n"
     ]
    }
   ],
   "source": [
    "print('-' * 50)\n",
    "print(\"\\nCheck Duplicates\")\n",
    "print('-' * 50)\n",
    "print('Total Duplicates values: ',data.duplicated().sum())\n",
    "print('-' * 50)"
   ]
  },
  {
   "cell_type": "code",
   "execution_count": 26,
   "id": "8fcc398c",
   "metadata": {},
   "outputs": [],
   "source": [
    "#시각화하기"
   ]
  },
  {
   "cell_type": "code",
   "execution_count": 27,
   "id": "dadd3012",
   "metadata": {},
   "outputs": [
    {
     "data": {
      "text/plain": [
       "type\n",
       "Movie      6126\n",
       "TV Show    2664\n",
       "Name: count, dtype: int64"
      ]
     },
     "execution_count": 27,
     "metadata": {},
     "output_type": "execute_result"
    }
   ],
   "source": [
    "data['type'].value_counts()"
   ]
  },
  {
   "cell_type": "code",
   "execution_count": 53,
   "id": "5dc768fc",
   "metadata": {},
   "outputs": [
    {
     "data": {
      "text/html": [
       "\n",
       "<script>\n",
       "    require.config({\n",
       "        paths: {\n",
       "            'chartXkcd':'https://cdn.jsdelivr.net/npm/chart.xkcd@1.1/dist/chart.xkcd.min'\n",
       "        }\n",
       "    });\n",
       "</script>\n",
       "\n",
       "<div id=\"66f977412147416b8537064794eae4fc\" class=\"chart-container\" style=\"width: 720px\">\n",
       "        <svg id=\"chart_66f977412147416b8537064794eae4fc\"></svg>\n",
       "    </div>\n",
       "    <script>\n",
       "        require(['chartXkcd'], function(chartXkcd) {\n",
       "            const svg_66f977412147416b8537064794eae4fc = document.querySelector('#chart_66f977412147416b8537064794eae4fc')\n",
       "            const chart_66f977412147416b8537064794eae4fc = new chartXkcd.Pie(svg_66f977412147416b8537064794eae4fc, {\"title\": \"\\uacb0\\uc81c\\uc218\\ub2e8 \\uce74\\ud14c\\uace0\\ub9ac\", \"data\": {\"datasets\": [{\"data\": [6126, 2664]}], \"labels\": [\"Movie\", \"TV Show\"]}, \"options\": {\"innerRadius\": 0, \"legendPosition\": 1, \"dataColors\": [\"#ee333c\", \"#168ab5\"]}});\n",
       "        })\n",
       "    </script>\n"
      ],
      "text/plain": [
       "<cutecharts.render.engine.HTML at 0x2a7f38ad410>"
      ]
     },
     "execution_count": 53,
     "metadata": {},
     "output_type": "execute_result"
    }
   ],
   "source": [
    "t_values = data['type'].value_counts()\n",
    "t_labels = data['type'].unique()\n",
    "\n",
    "#원형 차트\n",
    "pie = ctc.Pie('결제수단 카테고리', # 제목\n",
    "             width='720px', height='720px')\n",
    "\n",
    "#차트 옵션 설정\n",
    "pie.set_options(labels=list(t_labels), #국가 이름을 레이블로 지정 \n",
    "               inner_radius=0, #내부 반경을 0으로 설정\n",
    "               colors=['#ee333c', '#168ab5'])\n",
    "\n",
    "#그래프에 표시할 레이블\n",
    "pie.add_series(list(t_values))\n",
    "\n",
    "#차트 표시\n",
    "pie.render_notebook()"
   ]
  },
  {
   "cell_type": "code",
   "execution_count": 30,
   "id": "2ed21a5a",
   "metadata": {},
   "outputs": [],
   "source": [
    "#상위 5개 등급 카테고리"
   ]
  },
  {
   "cell_type": "code",
   "execution_count": 31,
   "id": "e3766e61",
   "metadata": {},
   "outputs": [],
   "source": [
    "newdata = data.groupby('rating').size().rename_axis('Rating').reset_index(name='Count')\n",
    "nd = newdata.sort_values(by='Count', ascending=True)\n",
    "nd = nd.tail(5)"
   ]
  },
  {
   "cell_type": "code",
   "execution_count": 52,
   "id": "fb5f6fcd",
   "metadata": {},
   "outputs": [
    {
     "data": {
      "text/html": [
       "\n",
       "<script>\n",
       "    require.config({\n",
       "        paths: {\n",
       "            'chartXkcd':'https://cdn.jsdelivr.net/npm/chart.xkcd@1.1/dist/chart.xkcd.min'\n",
       "        }\n",
       "    });\n",
       "</script>\n",
       "\n",
       "<div id=\"5fdaad7393de48909cc02b923f2d7aaf\" class=\"chart-container\" style=\"width: 600px\">\n",
       "        <svg id=\"chart_5fdaad7393de48909cc02b923f2d7aaf\"></svg>\n",
       "    </div>\n",
       "    <script>\n",
       "        require(['chartXkcd'], function(chartXkcd) {\n",
       "            const svg_5fdaad7393de48909cc02b923f2d7aaf = document.querySelector('#chart_5fdaad7393de48909cc02b923f2d7aaf')\n",
       "            const chart_5fdaad7393de48909cc02b923f2d7aaf = new chartXkcd.Bar(svg_5fdaad7393de48909cc02b923f2d7aaf, {\"title\": \"\\uc0c1\\uc704 5\\uac1c \\ub4f1\\uae09 \\uce74\\ud14c\\uace0\\ub9ac\", \"data\": {\"datasets\": [{\"label\": \"\\uc791\\ud488\\uc218\", \"data\": [490, 799, 861, 2157, 3205]}], \"labels\": [\"PG-13\", \"R\", \"TV-PG\", \"TV-14\", \"TV-MA\"]}, \"xLabel\": \"\\uce74\\ud14c\\uace0\\ub9ac\", \"yLabel\": \"\\uba85(\\uc218)\", \"options\": {\"yTickCount\": 3, \"dataColors\": [\"#c23531\", \"#2f4554\", \"#61a0a8\", \"#d48265\", \"#749f83\", \"#ca8622\", \"#bda29a\"]}});\n",
       "        })\n",
       "    </script>\n"
      ],
      "text/plain": [
       "<cutecharts.render.engine.HTML at 0x2a7f38ade90>"
      ]
     },
     "execution_count": 52,
     "metadata": {},
     "output_type": "execute_result"
    }
   ],
   "source": [
    "colors=['#FFF1C9', '#F7B7A3', '#EA5F89', '#9B3192', '#57167E', '#47B39C','#00529B']\n",
    "\n",
    "chart = ctc.Bar('상위 5개 등급 카테고리', width='600px', height='200px')\n",
    "\n",
    "chart.set_options(labels=list(nd.Rating),\n",
    "                 \n",
    "                 x_label='카테고리', \n",
    "                 y_label='명(수)',\n",
    "                 colors=Faker.colors)\n",
    "\n",
    "chart.add_series('작품수', list(nd['Count']))\n",
    "\n",
    "chart.render_notebook()"
   ]
  },
  {
   "cell_type": "code",
   "execution_count": 33,
   "id": "51a15d65",
   "metadata": {},
   "outputs": [],
   "source": [
    "#상위 5명의 감독"
   ]
  },
  {
   "cell_type": "code",
   "execution_count": 34,
   "id": "2a024b74",
   "metadata": {},
   "outputs": [
    {
     "data": {
      "text/html": [
       "<div>\n",
       "<style scoped>\n",
       "    .dataframe tbody tr th:only-of-type {\n",
       "        vertical-align: middle;\n",
       "    }\n",
       "\n",
       "    .dataframe tbody tr th {\n",
       "        vertical-align: top;\n",
       "    }\n",
       "\n",
       "    .dataframe thead th {\n",
       "        text-align: right;\n",
       "    }\n",
       "</style>\n",
       "<table border=\"1\" class=\"dataframe\">\n",
       "  <thead>\n",
       "    <tr style=\"text-align: right;\">\n",
       "      <th></th>\n",
       "      <th>director</th>\n",
       "      <th>counts</th>\n",
       "    </tr>\n",
       "  </thead>\n",
       "  <tbody>\n",
       "    <tr>\n",
       "      <th>4019</th>\n",
       "      <td>Rajiv Chilaka</td>\n",
       "      <td>22</td>\n",
       "    </tr>\n",
       "    <tr>\n",
       "      <th>4066</th>\n",
       "      <td>Raúl Campos</td>\n",
       "      <td>18</td>\n",
       "    </tr>\n",
       "    <tr>\n",
       "      <th>261</th>\n",
       "      <td>Jan Suter</td>\n",
       "      <td>18</td>\n",
       "    </tr>\n",
       "    <tr>\n",
       "      <th>4650</th>\n",
       "      <td>Suhas Kadav</td>\n",
       "      <td>16</td>\n",
       "    </tr>\n",
       "    <tr>\n",
       "      <th>3233</th>\n",
       "      <td>Marcus Raboy</td>\n",
       "      <td>16</td>\n",
       "    </tr>\n",
       "  </tbody>\n",
       "</table>\n",
       "</div>"
      ],
      "text/plain": [
       "           director  counts\n",
       "4019  Rajiv Chilaka      22\n",
       "4066    Raúl Campos      18\n",
       "261       Jan Suter      18\n",
       "4650    Suhas Kadav      16\n",
       "3233   Marcus Raboy      16"
      ]
     },
     "execution_count": 34,
     "metadata": {},
     "output_type": "execute_result"
    }
   ],
   "source": [
    "fil_directors = data['director'].str.split(',',expand=True).stack()\n",
    "fil_directors = pd.DataFrame(fil_directors)\n",
    "fil_directors.columns = ['director']\n",
    "directors = fil_directors.groupby(['director']).size().reset_index(name='counts')\n",
    "directors = directors.sort_values(by='counts',ascending=False)\n",
    "directors = directors[directors['director'] != 'No Director']\n",
    "directors = directors.head(5)\n",
    "directors"
   ]
  },
  {
   "cell_type": "code",
   "execution_count": 51,
   "id": "e1bc4eec",
   "metadata": {},
   "outputs": [
    {
     "data": {
      "text/html": [
       "\n",
       "<script>\n",
       "    require.config({\n",
       "        paths: {\n",
       "            'chartXkcd':'https://cdn.jsdelivr.net/npm/chart.xkcd@1.1/dist/chart.xkcd.min'\n",
       "        }\n",
       "    });\n",
       "</script>\n",
       "\n",
       "<div id=\"4feb99ec5dce4beb916098a75a1a234a\" class=\"chart-container\" style=\"width: 600px\">\n",
       "        <svg id=\"chart_4feb99ec5dce4beb916098a75a1a234a\"></svg>\n",
       "    </div>\n",
       "    <script>\n",
       "        require(['chartXkcd'], function(chartXkcd) {\n",
       "            const svg_4feb99ec5dce4beb916098a75a1a234a = document.querySelector('#chart_4feb99ec5dce4beb916098a75a1a234a')\n",
       "            const chart_4feb99ec5dce4beb916098a75a1a234a = new chartXkcd.Bar(svg_4feb99ec5dce4beb916098a75a1a234a, {\"title\": \"\\uc0c1\\uc704 5\\uba85\\uc758 \\uac10\\ub3c5\", \"data\": {\"datasets\": [{\"label\": \"\\uc791\\ud488 \\uc218\", \"data\": [22, 18, 18, 16, 16]}], \"labels\": [\"Rajiv Chilaka\", \"Ra\\u00fal Campos\", \" Jan Suter\", \"Suhas Kadav\", \"Marcus Raboy\"]}, \"xLabel\": \"\\uac10\\ub3c5\", \"yLabel\": \"\\uc601\\ud654\", \"options\": {\"yTickCount\": 3, \"dataColors\": [\"#c23531\", \"#2f4554\", \"#61a0a8\", \"#d48265\", \"#749f83\", \"#ca8622\", \"#bda29a\"]}});\n",
       "        })\n",
       "    </script>\n"
      ],
      "text/plain": [
       "<cutecharts.render.engine.HTML at 0x2a7f4024150>"
      ]
     },
     "execution_count": 51,
     "metadata": {},
     "output_type": "execute_result"
    }
   ],
   "source": [
    "colors=['#FFF1C9', '#F7B7A3', '#EA5F89', '#9B3192', '#57167E', '#47B39C','#00529B']\n",
    "\n",
    "chart = ctc.Bar('상위 5명의 감독', width='600px', height='200px')\n",
    "\n",
    "chart.set_options(labels=list(directors.director),\n",
    "                  x_label='감독',\n",
    "                 y_label='영화',\n",
    "                 colors=Faker.colors)\n",
    "\n",
    "chart.add_series('작품 수', list(directors.counts))\n",
    "\n",
    "chart.render_notebook()"
   ]
  },
  {
   "cell_type": "code",
   "execution_count": 45,
   "id": "4fc553b2",
   "metadata": {},
   "outputs": [],
   "source": [
    "#톱 5 배우들"
   ]
  },
  {
   "cell_type": "code",
   "execution_count": 48,
   "id": "4b9c6574",
   "metadata": {},
   "outputs": [
    {
     "data": {
      "text/html": [
       "<div>\n",
       "<style scoped>\n",
       "    .dataframe tbody tr th:only-of-type {\n",
       "        vertical-align: middle;\n",
       "    }\n",
       "\n",
       "    .dataframe tbody tr th {\n",
       "        vertical-align: top;\n",
       "    }\n",
       "\n",
       "    .dataframe thead th {\n",
       "        text-align: right;\n",
       "    }\n",
       "</style>\n",
       "<table border=\"1\" class=\"dataframe\">\n",
       "  <thead>\n",
       "    <tr style=\"text-align: right;\">\n",
       "      <th></th>\n",
       "      <th>cast</th>\n",
       "      <th>counts</th>\n",
       "    </tr>\n",
       "  </thead>\n",
       "  <tbody>\n",
       "    <tr>\n",
       "      <th>2605</th>\n",
       "      <td>Anupam Kher</td>\n",
       "      <td>39</td>\n",
       "    </tr>\n",
       "    <tr>\n",
       "      <th>26903</th>\n",
       "      <td>Rupa Bhimani</td>\n",
       "      <td>31</td>\n",
       "    </tr>\n",
       "    <tr>\n",
       "      <th>30263</th>\n",
       "      <td>Takahiro Sakurai</td>\n",
       "      <td>30</td>\n",
       "    </tr>\n",
       "    <tr>\n",
       "      <th>15518</th>\n",
       "      <td>Julie Tejwani</td>\n",
       "      <td>28</td>\n",
       "    </tr>\n",
       "    <tr>\n",
       "      <th>23591</th>\n",
       "      <td>Om Puri</td>\n",
       "      <td>27</td>\n",
       "    </tr>\n",
       "  </tbody>\n",
       "</table>\n",
       "</div>"
      ],
      "text/plain": [
       "                    cast  counts\n",
       "2605         Anupam Kher      39\n",
       "26903       Rupa Bhimani      31\n",
       "30263   Takahiro Sakurai      30\n",
       "15518      Julie Tejwani      28\n",
       "23591            Om Puri      27"
      ]
     },
     "execution_count": 48,
     "metadata": {},
     "output_type": "execute_result"
    }
   ],
   "source": [
    "fil_actors = data['cast'].str.split(',',expand=True).stack()\n",
    "fil_actors = pd.DataFrame(fil_actors)\n",
    "fil_actors.columns = ['cast']\n",
    "\n",
    "actors = fil_actors.groupby(['cast']).size().reset_index(name='counts')\n",
    "actors = actors.sort_values(by='counts', ascending=False)\n",
    "actors = actors[actors['cast'] != 'No Cast']\n",
    "actors = actors.head(5)\n",
    "actors"
   ]
  },
  {
   "cell_type": "code",
   "execution_count": 50,
   "id": "176c34a4",
   "metadata": {
    "scrolled": true
   },
   "outputs": [
    {
     "data": {
      "text/html": [
       "\n",
       "<script>\n",
       "    require.config({\n",
       "        paths: {\n",
       "            'chartXkcd':'https://cdn.jsdelivr.net/npm/chart.xkcd@1.1/dist/chart.xkcd.min'\n",
       "        }\n",
       "    });\n",
       "</script>\n",
       "\n",
       "<div id=\"7c34254e2ec9484b81a597fe3ee050bc\" class=\"chart-container\" style=\"width: 600px\">\n",
       "        <svg id=\"chart_7c34254e2ec9484b81a597fe3ee050bc\"></svg>\n",
       "    </div>\n",
       "    <script>\n",
       "        require(['chartXkcd'], function(chartXkcd) {\n",
       "            const svg_7c34254e2ec9484b81a597fe3ee050bc = document.querySelector('#chart_7c34254e2ec9484b81a597fe3ee050bc')\n",
       "            const chart_7c34254e2ec9484b81a597fe3ee050bc = new chartXkcd.Bar(svg_7c34254e2ec9484b81a597fe3ee050bc, {\"title\": \"\\ud1b1 5 \\ubc30\\uc6b0\\ub4e4\", \"data\": {\"datasets\": [{\"label\": \"\\uc791\\ud488 \\uc218\", \"data\": [39, 31, 30, 28, 27]}], \"labels\": [\" Anupam Kher\", \" Rupa Bhimani\", \" Takahiro Sakurai\", \" Julie Tejwani\", \" Om Puri\"]}, \"xLabel\": \"\\ubc30\\uc6b0\", \"yLabel\": \"\\uc601\\ud654\", \"options\": {\"yTickCount\": 3, \"dataColors\": [\"#c23531\", \"#2f4554\", \"#61a0a8\", \"#d48265\", \"#749f83\", \"#ca8622\", \"#bda29a\"]}});\n",
       "        })\n",
       "    </script>\n"
      ],
      "text/plain": [
       "<cutecharts.render.engine.HTML at 0x2a7f324a490>"
      ]
     },
     "execution_count": 50,
     "metadata": {},
     "output_type": "execute_result"
    }
   ],
   "source": [
    "color = ['#FFF1C9', '#F7B7A3', '#EA5F89', '#9B3192', '#57167E', '#47B39C','#00529B']\n",
    "\n",
    "chart = ctc.Bar('톱 5 배우들', width='600px', height='200px')\n",
    "\n",
    "chart.set_options(labels=list(actors.cast), \n",
    "                 x_label='배우',\n",
    "                 y_label='영화',\n",
    "                  colors=Faker.colors\n",
    "                 )\n",
    "\n",
    "chart.add_series('작품 수', list(actors.counts))\n",
    "\n",
    "chart.render_notebook()"
   ]
  },
  {
   "cell_type": "code",
   "execution_count": 54,
   "id": "27ada36e",
   "metadata": {},
   "outputs": [],
   "source": [
    "#최근 몇 년간 TV쇼와 영화에 대한 관심의 흐름"
   ]
  },
  {
   "cell_type": "code",
   "execution_count": 62,
   "id": "73d8d037",
   "metadata": {},
   "outputs": [],
   "source": [
    "dff = data[['type','release_year']]\n",
    "dff = dff.rename(columns = {'release_year' : 'Release Year'})\n",
    "\n",
    "dff2 = dff.groupby(['Release Year','type']).size().reset_index(name='Total Content')\n",
    "dff2 = dff2[dff2['Release Year']>=2011]\n",
    "\n",
    "dff3 = dff2[dff2['type']=='Movie']\n",
    "\n",
    "dff4 = dff2[dff2['type']=='TV Show']"
   ]
  },
  {
   "cell_type": "code",
   "execution_count": 66,
   "id": "d0f60555",
   "metadata": {},
   "outputs": [
    {
     "data": {
      "text/html": [
       "\n",
       "<script>\n",
       "    require.config({\n",
       "        paths: {\n",
       "            'chartXkcd':'https://cdn.jsdelivr.net/npm/chart.xkcd@1.1/dist/chart.xkcd.min'\n",
       "        }\n",
       "    });\n",
       "</script>\n",
       "\n",
       "<div id=\"944c31a1563c45bc9ffd29fe654a4f23\" class=\"chart-container\" style=\"width: 800px\">\n",
       "        <svg id=\"chart_944c31a1563c45bc9ffd29fe654a4f23\"></svg>\n",
       "    </div>\n",
       "    <script>\n",
       "        require(['chartXkcd'], function(chartXkcd) {\n",
       "            const svg_944c31a1563c45bc9ffd29fe654a4f23 = document.querySelector('#chart_944c31a1563c45bc9ffd29fe654a4f23')\n",
       "            const chart_944c31a1563c45bc9ffd29fe654a4f23 = new chartXkcd.Line(svg_944c31a1563c45bc9ffd29fe654a4f23, {\"title\": \"\\uc9c0\\ub09c 10\\ub144\\uc758 \\ud750\\ub984\", \"data\": {\"datasets\": [{\"label\": \"\\uc601\\ud654\", \"data\": [145, 173, 225, 264, 396, 658, 765, 767, 633, 517, 277]}, {\"label\": \"TV \\uc1fc\", \"data\": [40, 63, 61, 88, 159, 243, 265, 379, 397, 436, 315]}], \"labels\": [2011, 2012, 2013, 2014, 2015, 2016, 2017, 2018, 2019, 2020, 2021]}, \"xLabel\": \"\\uc5f0\\ub3c4(\\ub144\\ub3c4)\", \"yLabel\": \"\\uc791\\ud488 \\uc218\", \"options\": {\"yTickCount\": 3, \"legendPosition\": 1}});\n",
       "        })\n",
       "    </script>\n"
      ],
      "text/plain": [
       "<cutecharts.render.engine.HTML at 0x2a7f3f3e250>"
      ]
     },
     "execution_count": 66,
     "metadata": {},
     "output_type": "execute_result"
    }
   ],
   "source": [
    "chart = Line('지난 10년의 흐름')\n",
    "\n",
    "chart.set_options(labels=list(dff3['Release Year']), \n",
    "                  x_label='연도(년도)', \n",
    "                  y_label='작품 수',)\n",
    "\n",
    "chart.add_series('영화', list(dff3['Total Content']))\n",
    "chart.add_series('TV 쇼', list(dff4['Total Content']))\n",
    "\n",
    "chart.render_notebook()"
   ]
  },
  {
   "cell_type": "code",
   "execution_count": 68,
   "id": "d0f23857",
   "metadata": {},
   "outputs": [],
   "source": [
    "#계절별 최고 TV 프로그램 톱 5"
   ]
  },
  {
   "cell_type": "code",
   "execution_count": 69,
   "id": "729a6362",
   "metadata": {},
   "outputs": [],
   "source": [
    "features=['title','duration','type']\n",
    "seasons= data[features]\n",
    "\n",
    "seasons['no_of_seasons']=seasons['duration'].str.replace(' Season','')\n",
    "seasons['no_of_seasons']=seasons['no_of_seasons'].str.replace('s','')\n",
    "seasons = seasons[seasons['type']=='TV Show']\n",
    "seasons['no_of_seasons']=seasons['no_of_seasons'].astype(str).astype(int)\n",
    "\n",
    "seasons = seasons.drop('duration', axis= 1)\n",
    "seasons = seasons.sort_values('no_of_seasons', ascending=False)\n",
    "seasons = seasons.head(5)"
   ]
  },
  {
   "cell_type": "code",
   "execution_count": 74,
   "id": "f15be9ce",
   "metadata": {},
   "outputs": [
    {
     "data": {
      "text/html": [
       "\n",
       "<script>\n",
       "    require.config({\n",
       "        paths: {\n",
       "            'chartXkcd':'https://cdn.jsdelivr.net/npm/chart.xkcd@1.1/dist/chart.xkcd.min'\n",
       "        }\n",
       "    });\n",
       "</script>\n",
       "\n",
       "<div id=\"62f144c5efce4f3eb226055c9d7763cf\" class=\"chart-container\" style=\"width: 600px\">\n",
       "        <svg id=\"chart_62f144c5efce4f3eb226055c9d7763cf\"></svg>\n",
       "    </div>\n",
       "    <script>\n",
       "        require(['chartXkcd'], function(chartXkcd) {\n",
       "            const svg_62f144c5efce4f3eb226055c9d7763cf = document.querySelector('#chart_62f144c5efce4f3eb226055c9d7763cf')\n",
       "            const chart_62f144c5efce4f3eb226055c9d7763cf = new chartXkcd.Bar(svg_62f144c5efce4f3eb226055c9d7763cf, {\"title\": \"TV \\ud504\\ub85c\\uadf8\\ub7a8 \\uc2dc\\uc98c \\ud1b1 5\", \"data\": {\"datasets\": [{\"label\": \"\\uc2dc\\ub9ac\\uc988\", \"data\": [17, 15, 15, 13, 13]}], \"labels\": [\"Grey's Anatomy\", \"Supernatural\", \"NCIS\", \"COMEDIANS of the world\", \"Heartland\"]}, \"xLabel\": \"\\uc791\\ud488\\uba85\", \"yLabel\": \"\\uc791\\ud488 \\uac1c\\uc218\", \"options\": {\"yTickCount\": 3, \"dataColors\": [\"#c23531\", \"#2f4554\", \"#61a0a8\", \"#d48265\", \"#749f83\", \"#ca8622\", \"#bda29a\"]}});\n",
       "        })\n",
       "    </script>\n"
      ],
      "text/plain": [
       "<cutecharts.render.engine.HTML at 0x2a7f3f22b90>"
      ]
     },
     "execution_count": 74,
     "metadata": {},
     "output_type": "execute_result"
    }
   ],
   "source": [
    "colors=['#FFF1C9', '#F7B7A3', '#EA5F89', '#9B3192', '#57167E', '#47B39C','#00529B']\n",
    "\n",
    "chart = ctc.Bar('TV 프로그램 시즌 톱 5', width='600px', height='200px')\n",
    "\n",
    "chart.set_options(labels=list(seasons.title),\n",
    "                  x_label='작품명',\n",
    "                  y_label='작품 개수',\n",
    "                  colors=Faker.colors)\n",
    "\n",
    "chart.add_series('시리즈',list(seasons.no_of_seasons))\n",
    "\n",
    "chart.render_notebook()"
   ]
  },
  {
   "cell_type": "code",
   "execution_count": null,
   "id": "54ad6e9e",
   "metadata": {},
   "outputs": [],
   "source": []
  }
 ],
 "metadata": {
  "kernelspec": {
   "display_name": "Python 3 (ipykernel)",
   "language": "python",
   "name": "python3"
  },
  "language_info": {
   "codemirror_mode": {
    "name": "ipython",
    "version": 3
   },
   "file_extension": ".py",
   "mimetype": "text/x-python",
   "name": "python",
   "nbconvert_exporter": "python",
   "pygments_lexer": "ipython3",
   "version": "3.11.3"
  }
 },
 "nbformat": 4,
 "nbformat_minor": 5
}
